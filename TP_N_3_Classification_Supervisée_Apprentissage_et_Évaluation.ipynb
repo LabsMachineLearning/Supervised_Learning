{
  "nbformat": 4,
  "nbformat_minor": 0,
  "metadata": {
    "colab": {
      "provenance": [],
      "toc_visible": true
    },
    "kernelspec": {
      "name": "python3",
      "display_name": "Python 3"
    },
    "language_info": {
      "name": "python"
    }
  },
  "cells": [
    {
      "cell_type": "markdown",
      "source": [
        "# **Objectif du TP**\n"
      ],
      "metadata": {
        "id": "HycHlDmpfPbf"
      }
    },
    {
      "cell_type": "markdown",
      "source": [
        "Ce TP vise à :\n",
        "- La prise en main de la bibliothèque **Scikit-Learn** de Python, dédiée à l'apprentissage automatique ;\n",
        "- Sensibilisation à l'évaluation des modèles appris en classification supervisée."
      ],
      "metadata": {
        "id": "5QenboDzc7W3"
      }
    },
    {
      "cell_type": "markdown",
      "source": [
        "# **I. Jeux de données**"
      ],
      "metadata": {
        "id": "lz_KPrSkfdie"
      }
    },
    {
      "cell_type": "markdown",
      "source": [
        "***1.   Iris*** \n",
        "\n",
        "Iris est un ensemble (jeu) de données introduit en **1936** par **Ronald Aylmer Fisher** comme un exemple d'analyse discriminante. \n",
        "\n",
        "Cet ensemble contient **150 exemples de critères observés** sur espèces différentes d'Iris de Gaspésie (Setosa, Versicolor, Virginica). \n",
        "\n",
        "Chaque exemple est composé de **4 attributs** (longueur et largeur des sépales en cm, longueur et largeur des pétales en cm) et d'**une classe** (l'espèce).\n",
        "\n",
        "Iris est disponible dans **Scikit-Learn** dans le package datasets. \n",
        "\n",
        "Les jeux de données comprennent un certain nombre d'attributs (tous ne sont pas toujours définis) : **.data**, **.target**, **.target_names**, **.feature_names** et **.DESCR**.\n",
        "\n",
        "*   **.data** : stocke un **tableau de dimensions n.m** où **n** est le **nombre d'instance**, et **m** le **nombre d'attributs**. \n",
        "Nous disposons ainsi, pour chaque instance, de la valeur de chacun des attributs - en l'occurrence des réels chez Iris ;\n",
        "*   **.target** : stocke les **classes** (étiquettes) de chaque instance (dans le cas supervisé) ;\n",
        "*   **.target_names** : contient le **nom des classes** ;\n",
        "*   **.feature_names** : contient le **nom des  attributs** ; \n",
        "*   **.DESCR** : contient une **description complète du jeu de données** au format texte.\n",
        "\n",
        "Les instructions Python suivantes permettent de charger le jeu de données Iris et d'afficher les attributs des données.\n",
        "\n",
        "\n"
      ],
      "metadata": {
        "id": "tyShGtjUcIvI"
      }
    },
    {
      "cell_type": "code",
      "execution_count": 6,
      "metadata": {
        "colab": {
          "base_uri": "https://localhost:8080/"
        },
        "id": "J57En021bPRp",
        "outputId": "42afd04f-4db0-4bb7-ec64-4903080c5170"
      },
      "outputs": [
        {
          "output_type": "stream",
          "name": "stdout",
          "text": [
            "[[5.1 3.5 1.4 0.2]\n",
            " [4.9 3.  1.4 0.2]\n",
            " [4.7 3.2 1.3 0.2]\n",
            " [4.6 3.1 1.5 0.2]\n",
            " [5.  3.6 1.4 0.2]\n",
            " [5.4 3.9 1.7 0.4]\n",
            " [4.6 3.4 1.4 0.3]\n",
            " [5.  3.4 1.5 0.2]\n",
            " [4.4 2.9 1.4 0.2]\n",
            " [4.9 3.1 1.5 0.1]\n",
            " [5.4 3.7 1.5 0.2]\n",
            " [4.8 3.4 1.6 0.2]\n",
            " [4.8 3.  1.4 0.1]\n",
            " [4.3 3.  1.1 0.1]\n",
            " [5.8 4.  1.2 0.2]\n",
            " [5.7 4.4 1.5 0.4]\n",
            " [5.4 3.9 1.3 0.4]\n",
            " [5.1 3.5 1.4 0.3]\n",
            " [5.7 3.8 1.7 0.3]\n",
            " [5.1 3.8 1.5 0.3]\n",
            " [5.4 3.4 1.7 0.2]\n",
            " [5.1 3.7 1.5 0.4]\n",
            " [4.6 3.6 1.  0.2]\n",
            " [5.1 3.3 1.7 0.5]\n",
            " [4.8 3.4 1.9 0.2]\n",
            " [5.  3.  1.6 0.2]\n",
            " [5.  3.4 1.6 0.4]\n",
            " [5.2 3.5 1.5 0.2]\n",
            " [5.2 3.4 1.4 0.2]\n",
            " [4.7 3.2 1.6 0.2]\n",
            " [4.8 3.1 1.6 0.2]\n",
            " [5.4 3.4 1.5 0.4]\n",
            " [5.2 4.1 1.5 0.1]\n",
            " [5.5 4.2 1.4 0.2]\n",
            " [4.9 3.1 1.5 0.2]\n",
            " [5.  3.2 1.2 0.2]\n",
            " [5.5 3.5 1.3 0.2]\n",
            " [4.9 3.6 1.4 0.1]\n",
            " [4.4 3.  1.3 0.2]\n",
            " [5.1 3.4 1.5 0.2]\n",
            " [5.  3.5 1.3 0.3]\n",
            " [4.5 2.3 1.3 0.3]\n",
            " [4.4 3.2 1.3 0.2]\n",
            " [5.  3.5 1.6 0.6]\n",
            " [5.1 3.8 1.9 0.4]\n",
            " [4.8 3.  1.4 0.3]\n",
            " [5.1 3.8 1.6 0.2]\n",
            " [4.6 3.2 1.4 0.2]\n",
            " [5.3 3.7 1.5 0.2]\n",
            " [5.  3.3 1.4 0.2]\n",
            " [7.  3.2 4.7 1.4]\n",
            " [6.4 3.2 4.5 1.5]\n",
            " [6.9 3.1 4.9 1.5]\n",
            " [5.5 2.3 4.  1.3]\n",
            " [6.5 2.8 4.6 1.5]\n",
            " [5.7 2.8 4.5 1.3]\n",
            " [6.3 3.3 4.7 1.6]\n",
            " [4.9 2.4 3.3 1. ]\n",
            " [6.6 2.9 4.6 1.3]\n",
            " [5.2 2.7 3.9 1.4]\n",
            " [5.  2.  3.5 1. ]\n",
            " [5.9 3.  4.2 1.5]\n",
            " [6.  2.2 4.  1. ]\n",
            " [6.1 2.9 4.7 1.4]\n",
            " [5.6 2.9 3.6 1.3]\n",
            " [6.7 3.1 4.4 1.4]\n",
            " [5.6 3.  4.5 1.5]\n",
            " [5.8 2.7 4.1 1. ]\n",
            " [6.2 2.2 4.5 1.5]\n",
            " [5.6 2.5 3.9 1.1]\n",
            " [5.9 3.2 4.8 1.8]\n",
            " [6.1 2.8 4.  1.3]\n",
            " [6.3 2.5 4.9 1.5]\n",
            " [6.1 2.8 4.7 1.2]\n",
            " [6.4 2.9 4.3 1.3]\n",
            " [6.6 3.  4.4 1.4]\n",
            " [6.8 2.8 4.8 1.4]\n",
            " [6.7 3.  5.  1.7]\n",
            " [6.  2.9 4.5 1.5]\n",
            " [5.7 2.6 3.5 1. ]\n",
            " [5.5 2.4 3.8 1.1]\n",
            " [5.5 2.4 3.7 1. ]\n",
            " [5.8 2.7 3.9 1.2]\n",
            " [6.  2.7 5.1 1.6]\n",
            " [5.4 3.  4.5 1.5]\n",
            " [6.  3.4 4.5 1.6]\n",
            " [6.7 3.1 4.7 1.5]\n",
            " [6.3 2.3 4.4 1.3]\n",
            " [5.6 3.  4.1 1.3]\n",
            " [5.5 2.5 4.  1.3]\n",
            " [5.5 2.6 4.4 1.2]\n",
            " [6.1 3.  4.6 1.4]\n",
            " [5.8 2.6 4.  1.2]\n",
            " [5.  2.3 3.3 1. ]\n",
            " [5.6 2.7 4.2 1.3]\n",
            " [5.7 3.  4.2 1.2]\n",
            " [5.7 2.9 4.2 1.3]\n",
            " [6.2 2.9 4.3 1.3]\n",
            " [5.1 2.5 3.  1.1]\n",
            " [5.7 2.8 4.1 1.3]\n",
            " [6.3 3.3 6.  2.5]\n",
            " [5.8 2.7 5.1 1.9]\n",
            " [7.1 3.  5.9 2.1]\n",
            " [6.3 2.9 5.6 1.8]\n",
            " [6.5 3.  5.8 2.2]\n",
            " [7.6 3.  6.6 2.1]\n",
            " [4.9 2.5 4.5 1.7]\n",
            " [7.3 2.9 6.3 1.8]\n",
            " [6.7 2.5 5.8 1.8]\n",
            " [7.2 3.6 6.1 2.5]\n",
            " [6.5 3.2 5.1 2. ]\n",
            " [6.4 2.7 5.3 1.9]\n",
            " [6.8 3.  5.5 2.1]\n",
            " [5.7 2.5 5.  2. ]\n",
            " [5.8 2.8 5.1 2.4]\n",
            " [6.4 3.2 5.3 2.3]\n",
            " [6.5 3.  5.5 1.8]\n",
            " [7.7 3.8 6.7 2.2]\n",
            " [7.7 2.6 6.9 2.3]\n",
            " [6.  2.2 5.  1.5]\n",
            " [6.9 3.2 5.7 2.3]\n",
            " [5.6 2.8 4.9 2. ]\n",
            " [7.7 2.8 6.7 2. ]\n",
            " [6.3 2.7 4.9 1.8]\n",
            " [6.7 3.3 5.7 2.1]\n",
            " [7.2 3.2 6.  1.8]\n",
            " [6.2 2.8 4.8 1.8]\n",
            " [6.1 3.  4.9 1.8]\n",
            " [6.4 2.8 5.6 2.1]\n",
            " [7.2 3.  5.8 1.6]\n",
            " [7.4 2.8 6.1 1.9]\n",
            " [7.9 3.8 6.4 2. ]\n",
            " [6.4 2.8 5.6 2.2]\n",
            " [6.3 2.8 5.1 1.5]\n",
            " [6.1 2.6 5.6 1.4]\n",
            " [7.7 3.  6.1 2.3]\n",
            " [6.3 3.4 5.6 2.4]\n",
            " [6.4 3.1 5.5 1.8]\n",
            " [6.  3.  4.8 1.8]\n",
            " [6.9 3.1 5.4 2.1]\n",
            " [6.7 3.1 5.6 2.4]\n",
            " [6.9 3.1 5.1 2.3]\n",
            " [5.8 2.7 5.1 1.9]\n",
            " [6.8 3.2 5.9 2.3]\n",
            " [6.7 3.3 5.7 2.5]\n",
            " [6.7 3.  5.2 2.3]\n",
            " [6.3 2.5 5.  1.9]\n",
            " [6.5 3.  5.2 2. ]\n",
            " [6.2 3.4 5.4 2.3]\n",
            " [5.9 3.  5.1 1.8]]\n",
            "[0 0 0 0 0 0 0 0 0 0 0 0 0 0 0 0 0 0 0 0 0 0 0 0 0 0 0 0 0 0 0 0 0 0 0 0 0\n",
            " 0 0 0 0 0 0 0 0 0 0 0 0 0 1 1 1 1 1 1 1 1 1 1 1 1 1 1 1 1 1 1 1 1 1 1 1 1\n",
            " 1 1 1 1 1 1 1 1 1 1 1 1 1 1 1 1 1 1 1 1 1 1 1 1 1 1 2 2 2 2 2 2 2 2 2 2 2\n",
            " 2 2 2 2 2 2 2 2 2 2 2 2 2 2 2 2 2 2 2 2 2 2 2 2 2 2 2 2 2 2 2 2 2 2 2 2 2\n",
            " 2 2]\n",
            "['setosa' 'versicolor' 'virginica']\n",
            "['sepal length (cm)', 'sepal width (cm)', 'petal length (cm)', 'petal width (cm)']\n",
            ".. _iris_dataset:\n",
            "\n",
            "Iris plants dataset\n",
            "--------------------\n",
            "\n",
            "**Data Set Characteristics:**\n",
            "\n",
            "    :Number of Instances: 150 (50 in each of three classes)\n",
            "    :Number of Attributes: 4 numeric, predictive attributes and the class\n",
            "    :Attribute Information:\n",
            "        - sepal length in cm\n",
            "        - sepal width in cm\n",
            "        - petal length in cm\n",
            "        - petal width in cm\n",
            "        - class:\n",
            "                - Iris-Setosa\n",
            "                - Iris-Versicolour\n",
            "                - Iris-Virginica\n",
            "                \n",
            "    :Summary Statistics:\n",
            "\n",
            "    ============== ==== ==== ======= ===== ====================\n",
            "                    Min  Max   Mean    SD   Class Correlation\n",
            "    ============== ==== ==== ======= ===== ====================\n",
            "    sepal length:   4.3  7.9   5.84   0.83    0.7826\n",
            "    sepal width:    2.0  4.4   3.05   0.43   -0.4194\n",
            "    petal length:   1.0  6.9   3.76   1.76    0.9490  (high!)\n",
            "    petal width:    0.1  2.5   1.20   0.76    0.9565  (high!)\n",
            "    ============== ==== ==== ======= ===== ====================\n",
            "\n",
            "    :Missing Attribute Values: None\n",
            "    :Class Distribution: 33.3% for each of 3 classes.\n",
            "    :Creator: R.A. Fisher\n",
            "    :Donor: Michael Marshall (MARSHALL%PLU@io.arc.nasa.gov)\n",
            "    :Date: July, 1988\n",
            "\n",
            "The famous Iris database, first used by Sir R.A. Fisher. The dataset is taken\n",
            "from Fisher's paper. Note that it's the same as in R, but not as in the UCI\n",
            "Machine Learning Repository, which has two wrong data points.\n",
            "\n",
            "This is perhaps the best known database to be found in the\n",
            "pattern recognition literature.  Fisher's paper is a classic in the field and\n",
            "is referenced frequently to this day.  (See Duda & Hart, for example.)  The\n",
            "data set contains 3 classes of 50 instances each, where each class refers to a\n",
            "type of iris plant.  One class is linearly separable from the other 2; the\n",
            "latter are NOT linearly separable from each other.\n",
            "\n",
            ".. topic:: References\n",
            "\n",
            "   - Fisher, R.A. \"The use of multiple measurements in taxonomic problems\"\n",
            "     Annual Eugenics, 7, Part II, 179-188 (1936); also in \"Contributions to\n",
            "     Mathematical Statistics\" (John Wiley, NY, 1950).\n",
            "   - Duda, R.O., & Hart, P.E. (1973) Pattern Classification and Scene Analysis.\n",
            "     (Q327.D83) John Wiley & Sons.  ISBN 0-471-22361-1.  See page 218.\n",
            "   - Dasarathy, B.V. (1980) \"Nosing Around the Neighborhood: A New System\n",
            "     Structure and Classification Rule for Recognition in Partially Exposed\n",
            "     Environments\".  IEEE Transactions on Pattern Analysis and Machine\n",
            "     Intelligence, Vol. PAMI-2, No. 1, 67-71.\n",
            "   - Gates, G.W. (1972) \"The Reduced Nearest Neighbor Rule\".  IEEE Transactions\n",
            "     on Information Theory, May 1972, 431-433.\n",
            "   - See also: 1988 MLC Proceedings, 54-64.  Cheeseman et al\"s AUTOCLASS II\n",
            "     conceptual clustering system finds 3 classes in the data.\n",
            "   - Many, many more ...\n"
          ]
        }
      ],
      "source": [
        "# Charger le jeu de données Iris\n",
        "from sklearn import datasets\n",
        "irisData = datasets.load_iris()\n",
        "# Afficher les attributs des données\n",
        "print (irisData.data)\n",
        "print (irisData.target)\n",
        "print (irisData.target_names)\n",
        "print (irisData.feature_names)\n",
        "print (irisData.DESCR)"
      ]
    },
    {
      "cell_type": "markdown",
      "source": [
        "***2.   À vous !*** \n",
        "\n",
        "**Comment sont réparties les données dans les tableaux ?** \n",
        "\n",
        "Les données sont réparties dans un **tableau de 150 instances** (50 dans chacune des trois classes : Iris-Setosa, Iris-Versicolor et Iris-Virginica) et sont divisées en deux parties, entrée et sortie.\n",
        "\n",
        "En entrée, chaque instance a 4 attributs numériques prédictifs (features) à savoir :\n",
        "* Longueur des sépales en cm ;\n",
        "* Largeur des sépales en cm ;\n",
        "* Longueur des pétales en cm ;\n",
        "* Largeur des pétales en cm.\n",
        "\n",
        "En sortie, une seul valeur numérique est retournée qui désigne pour chaque instance le type d'Iris (classe).\n",
        "* 0 : Iris-Setosa ;\n",
        "* 1 : Iris-Versicolour ;\n",
        "* 2 : Iris-Virginica.\n",
        "\n",
        "\n",
        "**Combien y a-t-il de données dans chaque classe ?**\n",
        "\n",
        "\n",
        "\n",
        "\n",
        "\n",
        "\n",
        "\n"
      ],
      "metadata": {
        "id": "bso5hGKElQLv"
      }
    },
    {
      "cell_type": "code",
      "source": [
        "# Afficher les dimensions du jeu de données\n",
        "irisData.data.shape, irisData.target.shape\n",
        "# Les lettres majuscules sont utilisées pour les vecteurs\n",
        "# Les lettres minuscules sont utilisées pour les scalaires\n",
        "X = irisData.data\n",
        "y = irisData.target\n",
        "# Afficher le nombre d'instances dans chaque classe\n",
        "# La sélection vectorielle permet de filtrer les données\n",
        "X[y==0].shape,X[y==1].shape,X[y==2].shape"
      ],
      "metadata": {
        "colab": {
          "base_uri": "https://localhost:8080/"
        },
        "id": "IHfTD7OYsiW2",
        "outputId": "2f13718b-fdce-4244-8136-262501dbdfd5"
      },
      "execution_count": 7,
      "outputs": [
        {
          "output_type": "execute_result",
          "data": {
            "text/plain": [
              "((50, 4), (50, 4), (50, 4))"
            ]
          },
          "metadata": {},
          "execution_count": 7
        }
      ]
    },
    {
      "cell_type": "markdown",
      "source": [
        "Chaque classe contient 50 instances et 4 attributs numériques prédictifs.\n",
        "\n",
        "\n",
        "**Quels sont les attributs et la classe du 32ème élément de l'échantillon ?**"
      ],
      "metadata": {
        "id": "Gxvc_8BqsjD-"
      }
    },
    {
      "cell_type": "code",
      "source": [
        "X[31], y[31]"
      ],
      "metadata": {
        "colab": {
          "base_uri": "https://localhost:8080/"
        },
        "id": "GmKqfMyYvumO",
        "outputId": "6c4d800d-8859-4bb9-a35e-cb1e535f567a"
      },
      "execution_count": 8,
      "outputs": [
        {
          "output_type": "execute_result",
          "data": {
            "text/plain": [
              "(array([5.4, 3.4, 1.5, 0.4]), 0)"
            ]
          },
          "metadata": {},
          "execution_count": 8
        }
      ]
    },
    {
      "cell_type": "markdown",
      "source": [
        "Les attributs et la classe du 32ème élément de l'échantillon sont données dans le tableau suivant :\n",
        "\n",
        "|Longueur des sépales|Largeur des sépales|Longueur des pétales|Largeur des pétales|Classe|\n",
        "|-|-|-|-|-|\n",
        "|5.4 | 3.4| 1.5| 0.4|0|"
      ],
      "metadata": {
        "id": "Ytjqcs52v6Ep"
      }
    },
    {
      "cell_type": "markdown",
      "source": [
        "**Comprendre, commenter et programmer le code source suivant.**"
      ],
      "metadata": {
        "id": "xOvwSr5bw_ut"
      }
    },
    {
      "cell_type": "code",
      "source": [
        "# Importer les dépendances de matplotlib, pylab et cycle\n",
        "import matplotlib\n",
        "import pylab as pl\n",
        "from itertools import cycle\n",
        "# Tracer les données sur un graphique à nuage de points afin d'avoir un aperçu rapide des données des différentes classes\n",
        "def plot_2D(data, target, target_names):\n",
        "  # Cycle de couleurs\n",
        "  colors = cycle('rgbcmykw') \n",
        "  target_ids = range(len(target_names))\n",
        "  pl.figure()\n",
        "  # Parcourir les différentes classes\n",
        "  # Utiliser une seule couleur dans chaque itération\n",
        "  for i, c, label in zip(target_ids, colors, target_names):\n",
        "    # Choisir uniquemenet la longueur et la largeur des sépales comme deux axes pour l'affichage des graphiques à nuage de points  \n",
        "    pl.scatter(data[target == i, 0], data[target == i, 1], c=c, label=label)\n",
        "  pl.legend()\n",
        "  pl.show()\n",
        "# Appeler la fonction plot_2D en passant en paramètres les données, la classe de chaque instance et les différents noms des classes\n",
        "plot_2D(irisData.data, irisData.target, [\"Iris-Setosa\", \"Iris-Versicolour\", \"Iris-Virginica\"])"
      ],
      "metadata": {
        "id": "n8uVGNHAmptg",
        "colab": {
          "base_uri": "https://localhost:8080/",
          "height": 268
        },
        "outputId": "408fc41c-00e1-480a-8f49-51ac5fbe6d93"
      },
      "execution_count": 9,
      "outputs": [
        {
          "output_type": "display_data",
          "data": {
            "text/plain": [
              "<Figure size 432x288 with 1 Axes>"
            ],
            "image/png": "[encoded data removed]"
          },
          "metadata": {
            "needs_background": "light"
          }
        }
      ]
    },
    {
      "cell_type": "markdown",
      "source": [
        "Pour produire l'affichage de la répartition des données selon d'autres couples d'attributs, par exemple en utilisant les attributs **longueur et largeur des pétales**, nous allons remplacer la ligne suivante \n",
        "\n",
        "```python\n",
        "pl.scatter(data[target == i, 0], data[target == i, 1], c=c, label=label) \n",
        "```\n",
        "par la ligne ci-dessous. \n",
        "```python\n",
        "pl.scatter(data[target == i, 2], data[target == i, 3], c=c, label=label) \n",
        "```\n",
        "Nous allons obtenir le résultat suivant :"
      ],
      "metadata": {
        "id": "97cxDef_2pJd"
      }
    },
    {
      "cell_type": "code",
      "source": [
        "# Importer les dépendances de matplotlib, pylab et cycle\n",
        "import matplotlib\n",
        "import pylab as pl\n",
        "from itertools import cycle\n",
        "# Tracer les données sur un graphique à nuage de points afin d'avoir un aperçu rapide des données des différentes classes\n",
        "def plot_2D(data, target, target_names):\n",
        "  # Cycle de couleurs\n",
        "  colors = cycle('rgbcmykw') \n",
        "  target_ids = range(len(target_names))\n",
        "  pl.figure()\n",
        "  # Parcourir les différentes classes\n",
        "  # Utiliser une seule couleur dans chaque itération\n",
        "  for i, c, label in zip(target_ids, colors, target_names):\n",
        "    # Choisir uniquemenet la longueur et la largeur des pétales comme deux axes pour l'affichage des graphiques à nuage de points  \n",
        "    pl.scatter(data[target == i, 2], data[target == i, 3], c=c, label=label)\n",
        "  pl.legend()\n",
        "  pl.show()\n",
        "# Appeler la fonction plot_2D en passant en paramètres les données, la classe de chaque instance et les différents noms des classes\n",
        "plot_2D(irisData.data, irisData.target, [\"Iris-Setosa\", \"Iris-Versicolour\", \"Iris-Virginica\"])"
      ],
      "metadata": {
        "colab": {
          "base_uri": "https://localhost:8080/",
          "height": 265
        },
        "id": "4Q_nxhV73mns",
        "outputId": "95070e7c-040b-4167-dda5-58e0e4afa798"
      },
      "execution_count": 10,
      "outputs": [
        {
          "output_type": "display_data",
          "data": {
            "text/plain": [
              "<Figure size 432x288 with 1 Axes>"
            ],
            "image/png": "[encoded data removed]"
          },
          "metadata": {
            "needs_background": "light"
          }
        }
      ]
    },
    {
      "cell_type": "markdown",
      "source": [
        "**Rechercher un droite permettant de séparer les exemples d'une classe des exemples des deux autres classes**"
      ],
      "metadata": {
        "id": "Z5Dx5qhR4MR3"
      }
    },
    {
      "cell_type": "code",
      "source": [
        "# Importer les dépendances de matplotlib, pylab, cycle et numpy\n",
        "import matplotlib\n",
        "import pylab as pl\n",
        "from itertools import cycle\n",
        "import numpy as np\n",
        "line_x= np.linspace(4.5,6.5,1000)\n",
        "# Tracer les données sur un graphique à nuage de points afin d'avoir un aperçu rapide des données des différentes classes\n",
        "def plot_2D(data, target, target_names):\n",
        "  # Cycle de couleurs\n",
        "  colors = cycle('rgbcmykw') \n",
        "  target_ids = range(len(target_names))\n",
        "  pl.figure()\n",
        "  ax = pl.subplot(111)\n",
        "  ax.plot(line_x,(line_x*1)-2.3)\n",
        "  # Parcourir les différentes classes\n",
        "  # Utiliser une seule couleur dans chaque itération\n",
        "  for i, c, label in zip(target_ids, colors, target_names):\n",
        "    # Choisir uniquemenet la longueur et la largeur des sépales comme deux axes pour l'affichage des graphiques à nuage de points  \n",
        "    ax.scatter(data[target == i, 0], data[target == i, 1], c=c, label=label)\n",
        "    ax.legend()\n",
        "    ax.figure.show()\n",
        "# Appeler la fonction plot_2D en passant en paramètres les données, la classe de chaque instance et les différents noms des classes\n",
        "plot_2D(irisData.data, irisData.target, [\"Iris-Setosa\", \"Iris-Versicolour\", \"Iris-Virginica\"])"
      ],
      "metadata": {
        "colab": {
          "base_uri": "https://localhost:8080/",
          "height": 268
        },
        "id": "NblfoWZ44jAr",
        "outputId": "430d0af7-5be8-43cd-a7aa-bdf064d55f9a"
      },
      "execution_count": 11,
      "outputs": [
        {
          "output_type": "display_data",
          "data": {
            "text/plain": [
              "<Figure size 432x288 with 1 Axes>"
            ],
            "image/png": "[encoded data removed]"
          },
          "metadata": {
            "needs_background": "light"
          }
        }
      ]
    },
    {
      "cell_type": "markdown",
      "source": [
        "L'équation de la droite permettant de  de séparer la classe **Iris-Setosa** des deux autres classes est : $ y = x - 2.3 $.\n",
        "\n",
        "***3.   Autres jeux de données !***\n",
        "\n",
        "D'autres jeux de données sont directement disponibles dans **Scikit-Learn** (notamment **boston**, **diabetes**, **digits**, **linnerud**, **sample images** et **20newsgroups**) via une fonction de chargement spécifique (**load name**) ou un processus de rapatriement Web facile à mettre en oeuvre (**fetch**).\n",
        "\n",
        "Il existe aussi des générateurs d'échantillons, ainsi que la possibilité de récupérer, au bon format d'entrée, les jeux de données compilés sur le site **mldata.org**. "
      ],
      "metadata": {
        "id": "i5U0rcXn51ku"
      }
    },
    {
      "cell_type": "markdown",
      "source": [
        "# II. Un premier apprentissage de classifieur\n",
        "\n",
        "***1. La variable clf***\n",
        "\n",
        "Sous **Scikit-Learn**, dans toute méthode de classification (plus exactement, tout estimateur) représentée par la variable **clf**, il existe deux fonctions essentielles :\n",
        "*   La fonction **clf.fit(tab_data, tab_target)** qui apprend un modèle à partir des données (ce modèle est stocké en interne dans un enregistrement de la variable **clf**) ;\n",
        "*   La fonction **clf.predict(tab_data)** qui renvoie un tableau qui stocke, pour chaque nouvelle donnée en entrée, la classe prédite par le modèle précédemment appris via l'estimateur **clf**.\n",
        "\n",
        "***2. À vous !***\n",
        "\n",
        "L'algorithme **Naïve Bayes Multinomial** permet d'apprendre un modèle de classification en se basant sur la **règle de Bayes**, avec hypothèse d'indépendance des attributs; l'aspect multinomial indique que cet algorithme fonctionne sur des données décrites par plusieurs attributs à valeurs discrètes.\n",
        "\n",
        "Cet algorithme est implanté sous la plupart des logiciels d'apprentissage automatique, notamment sous **Scikit-Learn** dans le package **naive_bayes**.\n",
        "\n"
      ],
      "metadata": {
        "id": "M5uk7XNL-dG0"
      }
    },
    {
      "cell_type": "code",
      "source": [
        "# Importer la dépendance de naive_bayes\n",
        "from sklearn import naive_bayes\n",
        "# Algorithme d'apprentissage\n",
        "clf = naive_bayes.MultinomialNB(fit_prior=True)\n",
        "# Charger le jeu de données Iris\n",
        "irisData = datasets.load_iris()\n",
        "# Lancer la phase d'apprentissage\n",
        "clf.fit(irisData.data[:-1], irisData.target[:-1])\n",
        "# Lancer la prédiction sur le 32ème élément de l'échantillon \n",
        "p31 = clf.predict([irisData.data[31]])\n",
        "print (p31)\n",
        "# Lancer la prédiction sur le dernier élément de l'échantillon \n",
        "plast = clf.predict([irisData.data[-1]])\n",
        "print (plast)\n",
        "# Lancer la prédiction sur tous les éléments de l'échantillon \n",
        "p = clf.predict(irisData.data[:])\n",
        "print(p)\n",
        "# Résultats actuels\n",
        "print(irisData.target)"
      ],
      "metadata": {
        "colab": {
          "base_uri": "https://localhost:8080/"
        },
        "id": "B3vtLkuDEKTm",
        "outputId": "13cb12db-cb84-42e1-a9ad-b86b824987df"
      },
      "execution_count": 12,
      "outputs": [
        {
          "output_type": "stream",
          "name": "stdout",
          "text": [
            "[0]\n",
            "[2]\n",
            "[0 0 0 0 0 0 0 0 0 0 0 0 0 0 0 0 0 0 0 0 0 0 0 0 0 0 0 0 0 0 0 0 0 0 0 0 0\n",
            " 0 0 0 0 0 0 0 0 0 0 0 0 0 1 1 1 1 1 1 1 1 1 1 1 1 1 1 1 1 1 1 1 1 1 1 1 1\n",
            " 1 1 1 1 1 1 1 1 1 2 1 1 1 1 1 1 1 1 1 1 1 1 1 1 1 1 2 2 2 2 2 2 2 2 2 2 2\n",
            " 2 2 2 2 2 2 2 2 2 2 2 2 2 2 1 2 2 2 1 2 1 2 1 2 2 2 2 2 2 2 2 2 2 2 2 2 2\n",
            " 2 2]\n",
            "[0 0 0 0 0 0 0 0 0 0 0 0 0 0 0 0 0 0 0 0 0 0 0 0 0 0 0 0 0 0 0 0 0 0 0 0 0\n",
            " 0 0 0 0 0 0 0 0 0 0 0 0 0 1 1 1 1 1 1 1 1 1 1 1 1 1 1 1 1 1 1 1 1 1 1 1 1\n",
            " 1 1 1 1 1 1 1 1 1 1 1 1 1 1 1 1 1 1 1 1 1 1 1 1 1 1 2 2 2 2 2 2 2 2 2 2 2\n",
            " 2 2 2 2 2 2 2 2 2 2 2 2 2 2 2 2 2 2 2 2 2 2 2 2 2 2 2 2 2 2 2 2 2 2 2 2 2\n",
            " 2 2]\n"
          ]
        }
      ]
    },
    {
      "cell_type": "code",
      "source": [
        "# Importer la dépendance de naive_bayes\n",
        "from sklearn import naive_bayes\n",
        "# Algorithme d'apprentissage\n",
        "clf = naive_bayes.MultinomialNB(fit_prior=True)\n",
        "# Lancer la phase d'apprentissage sur une partie des données\n",
        "clf.fit(irisData.data[:99], irisData.target[:99])\n",
        "# Prédire sur les données restantes\n",
        "p = clf.predict(irisData.data[100:149])\n",
        "print (p)\n",
        "print(irisData.target[100:149])"
      ],
      "metadata": {
        "colab": {
          "base_uri": "https://localhost:8080/"
        },
        "id": "eG3aXjImIHFp",
        "outputId": "08c37bca-14f4-4aa0-b6a2-236545e0fd21"
      },
      "execution_count": 13,
      "outputs": [
        {
          "output_type": "stream",
          "name": "stdout",
          "text": [
            "[1 1 1 1 1 1 1 1 1 1 1 1 1 1 1 1 1 1 1 1 1 1 1 1 1 1 1 1 1 1 1 1 1 1 1 1 1\n",
            " 1 1 1 1 1 1 1 1 1 1 1 1]\n",
            "[2 2 2 2 2 2 2 2 2 2 2 2 2 2 2 2 2 2 2 2 2 2 2 2 2 2 2 2 2 2 2 2 2 2 2 2 2\n",
            " 2 2 2 2 2 2 2 2 2 2 2 2]\n"
          ]
        }
      ]
    },
    {
      "cell_type": "markdown",
      "source": [
        "\n",
        "**Que réalise le programme ci-dessus ?**\n",
        "\n",
        "Le programme ci-dessus divise les données en deux parties : \n",
        "*  Les données d'apprentissage ;\n",
        "*  Les données de test.\n",
        "\n",
        "**Les résultats vous semblent-ils cohérents ? Comment interpréter les résultats ?**\n",
        "\n",
        "Les résultats obtenus sont incohérents. En effet, le problème rencontré est que le dataset n'est pas équilibré après la division des données; le modèle n'a jamais rencontré le 3ème type d'Iris à savoir **Iris-Virginica**. \n",
        "\n",
        "**Que proposez-vous pour équilibrer l'ensemble d'apprentissage et l'ensemble de test ?**\n",
        "\n",
        "Pour remédier à ce problème, il faut équilibrer le dataset avant la division des données. Cela est possible grâce à la fonction **shuffle** qui permet de mélanger les données avant de les diviser en un ensemble d'apprentissage et un ensemble de test."
      ],
      "metadata": {
        "id": "oNMDRTXhJjmV"
      }
    },
    {
      "cell_type": "code",
      "source": [
        "# Importer les dépendances de naive_bayes et shuffle\n",
        "from sklearn import naive_bayes\n",
        "from random import shuffle\n",
        "# Algorithme d'apprentissage\n",
        "clf = naive_bayes.MultinomialNB(fit_prior=True)\n",
        "data = list(zip(irisData.data, irisData.target))\n",
        "shuffle(data)\n",
        "X, y = list(zip(*data))\n",
        "clf.fit(X[:99], y[:99])\n",
        "# Prédire sur les données restantes\n",
        "p = clf.predict(X[100:149])\n",
        "print(list(p))\n",
        "print(list(y[100:149]))"
      ],
      "metadata": {
        "colab": {
          "base_uri": "https://localhost:8080/"
        },
        "id": "nrJBdYbsKZ1A",
        "outputId": "582e2e74-b90c-4e2b-a484-cd8a43bdc5b5"
      },
      "execution_count": 14,
      "outputs": [
        {
          "output_type": "stream",
          "name": "stdout",
          "text": [
            "[0, 0, 2, 0, 2, 2, 2, 2, 2, 1, 2, 2, 0, 2, 2, 2, 2, 2, 2, 2, 2, 0, 2, 0, 2, 2, 2, 2, 0, 2, 2, 2, 2, 0, 0, 2, 0, 2, 2, 2, 2, 0, 0, 0, 2, 2, 2, 0, 2]\n",
            "[0, 0, 1, 0, 2, 1, 2, 1, 2, 1, 1, 1, 0, 1, 1, 1, 2, 1, 2, 1, 1, 0, 1, 0, 1, 2, 2, 2, 0, 1, 1, 2, 2, 0, 0, 2, 0, 1, 1, 2, 1, 0, 0, 0, 2, 2, 1, 0, 1]\n"
          ]
        }
      ]
    },
    {
      "cell_type": "markdown",
      "source": [
        "# III. Évaluer les performances d'un classifieur\n"
      ],
      "metadata": {
        "id": "RfXIZPddRXxP"
      }
    },
    {
      "cell_type": "markdown",
      "source": [
        "L'objectif ici est de lancer des apprentissages sur le jeu de données **Iris**, et d'évaluer la performance de ces apprentissages en calculant pour chacun :\n",
        "- L'erreur d'apprentissage ;\n",
        "- L'estimation de l'erreur réelle par séparation en 2 parties de l’échantillon d'apprentissage ;\n",
        "- L'estimation de l'erreur réelle par validation croisée (cross-validation).\n",
        "\n",
        "**1. Performances sur l'ensemble d'apprentissage**\n",
        "\n",
        "Il  suffit,  pour évaluer  la  performance  d'un  classifieur  sur  l'ensemble  des  données  qui  a  servi  à  sa construction, de lancer la prédiction sur les mêmes données qui ont été fournies à la méthode **fit** ; puis de comparer le résultat de **predict** aux **cibles** (target) de ces données. Pour cela, plusieurs façons très simples existent.\n",
        "\n",
        "**A.** Soit **P** le **tableau qui contient les prédictions**, et **Y** le **tableau qui contient les cibles** (Y = irisData.target). Le code suivant permet de compter les erreurs et ainsi de calculer l'erreur d'apprentissage."
      ],
      "metadata": {
        "id": "6FhJodZ3Rpfs"
      }
    },
    {
      "cell_type": "code",
      "source": [
        "import numpy\n",
        "Y = irisData.target\n",
        "clf.fit(irisData.data, Y)\n",
        "P = clf.predict(irisData.data)\n",
        "# Calculer l'erreur d'apprentissage\n",
        "def calculate_error(P, Y):\n",
        "  ea = 0\n",
        "  for i in range(len(Y)):\n",
        "    if (P[i] != Y[i]):\n",
        "      ea = ea+1\n",
        "  print (ea/len(irisData.data))\n",
        "calculate_error(P, Y)\n",
        "print(\"Les identifiants des instances incorrectement prédites sont :\", \", \".join(map(str,numpy.nonzero(P!=Y)[0])))"
      ],
      "metadata": {
        "colab": {
          "base_uri": "https://localhost:8080/"
        },
        "id": "r66zn3smThVl",
        "outputId": "4bd02c83-cc14-48c9-f5e1-44486ded7c3a"
      },
      "execution_count": 15,
      "outputs": [
        {
          "output_type": "stream",
          "name": "stdout",
          "text": [
            "0.04666666666666667\n",
            "Les identifiants des instances incorrectement prédites sont : 68, 70, 72, 83, 129, 131, 133\n"
          ]
        }
      ]
    },
    {
      "cell_type": "markdown",
      "source": [
        "**B.** Les opérateurs sur les tableaux et matrices devraient permettre d'effectuer ce comptage en une seule instruction !\n",
        "\n",
        "**Que représentent les valeurs non nulles ?**\n",
        "\n",
        "Les valeurs non nulles représentent les erreurs commises par le modèle. \n",
        "\n",
        "**Comment compter (en une seule instruction) le nombre de valeurs non-nulles ?**\n",
        "\n",
        "Nous pouvons utiliser la fonction **count_nonzero()** du package **numpy** pour calculer le nombre de valeurs non-nulles en une seule instruction."
      ],
      "metadata": {
        "id": "iMrpYXGZVOqM"
      }
    },
    {
      "cell_type": "code",
      "source": [
        "d = P - Y\n",
        "print (np.count_nonzero(d)/len(Y))\n",
        "print(\"Les identifiants des instances incorrectement prédites sont :\", \", \".join(map(str,numpy.nonzero(P!=Y)[0])))"
      ],
      "metadata": {
        "colab": {
          "base_uri": "https://localhost:8080/"
        },
        "id": "VmenN6TiVbH-",
        "outputId": "445aa66e-1537-4ad0-dad9-5191d327bf5e"
      },
      "execution_count": 16,
      "outputs": [
        {
          "output_type": "stream",
          "name": "stdout",
          "text": [
            "0.04666666666666667\n",
            "Les identifiants des instances incorrectement prédites sont : 68, 70, 72, 83, 129, 131, 133\n"
          ]
        }
      ]
    },
    {
      "cell_type": "markdown",
      "source": [
        "**C.** La méthode **clf.score(X,y)** permet de calculer le taux de bonne classification du modèle appris par la méthode **clf**, sur un ensemble de données stocké dans **X** et dont les classes sont stockées dans **y**. Le taux de bonne classification **a**, appelé en anglais **accuracy**, est tel que $a = 1 - e$ si **e** est le taux d'erreur."
      ],
      "metadata": {
        "id": "GKJKeoGRXh5B"
      }
    },
    {
      "cell_type": "code",
      "source": [
        "a = clf.score(X,y)\n",
        "print(a)\n",
        "e = 1-a\n",
        "print(e)\n",
        "print(\"Les identifiants des instances incorrectement prédites sont :\", \", \".join(map(str,numpy.nonzero(P!=Y)[0])))"
      ],
      "metadata": {
        "colab": {
          "base_uri": "https://localhost:8080/"
        },
        "id": "OtXoCea4X499",
        "outputId": "6dc195a5-6671-4170-d074-159402e6e2c4"
      },
      "execution_count": 17,
      "outputs": [
        {
          "output_type": "stream",
          "name": "stdout",
          "text": [
            "0.9533333333333334\n",
            "0.046666666666666634\n",
            "Les identifiants des instances incorrectement prédites sont : 68, 70, 72, 83, 129, 131, 133\n"
          ]
        }
      ]
    },
    {
      "cell_type": "markdown",
      "source": [
        "**Sur quelle(s) données (s) y a-t-il une erreur de prédiction ?**\n",
        "\n",
        "Les identifiants des instances incorrectement prédites sont : **68**, **70**, **72**, **83**, **129**, **131**, **133**.\n",
        "\n",
        "L'erreur d'apprentissage permet de savoir si le classifieur a bien appris sur l'ensemble d'apprentissage ou pas. Mais nous ne pouvons pas évaluer la performance d'un classifieur uniquement sur la base de l'erreur d'apprentissage ; car une erreur d'apprentissage faible peut également indiquer un **overfitting**. Nous avons donc besoin de la valeur de l'erreur réelle.\n",
        "\n",
        "\n",
        "**2. Performances en généralisation**\n",
        "\n",
        "**2.1. Estimer l'erreur réelle par division de l'échantillon d'apprentissage**\n",
        "\n",
        "Il est difficile de connaître l'erreur sur les données à venir, puisque nous ne les connaissons pas encore. Nous supposons l'existence d'une distribution **P(X; y)** sur notre échantillon, même si nous ne connaissons pas cette distribution.\n",
        "\n",
        "Il est alors possible d'imaginer que nous pouvons séparer notre échantillon S en deux : une partie S1 pour apprendre le modèle, et une autre partie S2 pour tester le modèle appris. Nous essayons d'avoir **|S1|= 2 |S2| = 2/3 |S|**. \n",
        "\n",
        "**Attention** : Nous devons avoir S1 et S2 disjointes, chacune est supposée suivre la même loi que P !\n",
        "\n",
        "Comme nous connaissons les étiquettes des exemples de S2, nous pouvons comparer les prédictions du modèle appris sur S1, aux cibles (target) réelles de S2.\n",
        "\n",
        "**A.** Nous allons créer la fonction **split(S)** pour séparer en deux un échantillon **S** de couples **(X, y)** supposés uniformément répartis, selon le principe évoqué précédemment. Nous supposons que **S** est une **variable de type datasets**. Cette fonction renvoie un **tableau à quatre éléments** **[dataS1, targetS1, dataS2, targetS2]**\n",
        "où **dataS1** et **dataS2** sont des **matrices** ayant le **même nombre de colonnes** que **S.data**, et où **targetS1** et **targetS2** sont des **vecteurs d'étiquettes**.\n",
        "\n",
        "Nous allons tester cette fonction sur le dataset **Iris**.\n"
      ],
      "metadata": {
        "id": "j9RLWeE3aj3V"
      }
    },
    {
      "cell_type": "code",
      "source": [
        "from random import sample\n",
        "S = list(zip(irisData.data, irisData.target))\n",
        "def split(S):\n",
        "  S_size = len(S)*0.33\n",
        "  S_indexes = sample(range(len(S)),k=round(S_size))\n",
        "  dataS1 = []\n",
        "  targetS1 = []\n",
        "  dataS2 = []\n",
        "  targetS2 = []\n",
        "  for i in range(len(S)):\n",
        "    if i in S_indexes:\n",
        "      dataS2.append(S[i][0])\n",
        "      targetS2.append(S[i][1])\n",
        "    else:\n",
        "      dataS1.append(S[i][0])\n",
        "      targetS1.append(S[i][1])\n",
        "  return [dataS1, targetS1, dataS2, targetS2]\n",
        "[dataS1, targetS1, dataS2, targetS2] = split(S)\n",
        "print(f\"dataS1 = {len(dataS1)}  targetS1 = {len(targetS1)}\")\n",
        "print(f\"dataS2 = {len(dataS2)}  targetS2 = {len(targetS2)}\")"
      ],
      "metadata": {
        "colab": {
          "base_uri": "https://localhost:8080/"
        },
        "id": "QXsUue_EdEAU",
        "outputId": "a6a1a7e7-3ef3-41ff-c76f-51acb7663b37"
      },
      "execution_count": 18,
      "outputs": [
        {
          "output_type": "stream",
          "name": "stdout",
          "text": [
            "dataS1 = 100  targetS1 = 100\n",
            "dataS2 = 50  targetS2 = 50\n"
          ]
        }
      ]
    },
    {
      "cell_type": "markdown",
      "source": [
        "**B.** Nous allons créer la fonction **test(S, clf)** qui sépare **S** en deux parties, puis apprend sur la première partie un modèle avec l'estimateur **clf**, et teste ce modèle sur l'autre partie, en comptant les erreurs faites sur l'échantillon : la proportion d'erreurs est renvoyée par la fonction. \n",
        "\n",
        "Nous allons tester cette fonction sur **Iris** avec **Naïve Bayes**. "
      ],
      "metadata": {
        "id": "GW-aYcfZfWab"
      }
    },
    {
      "cell_type": "code",
      "source": [
        "def test(S, clf):\n",
        "  [dataS1, targetS1, dataS2, targetS2] = split(S)\n",
        "  clf.fit(dataS1, targetS1)\n",
        "  return 1-clf.score(dataS2, targetS2)\n",
        "test(S,clf)"
      ],
      "metadata": {
        "colab": {
          "base_uri": "https://localhost:8080/"
        },
        "id": "8JItfp52f-Ek",
        "outputId": "c31829d8-e574-4f92-a9bf-7bda21b4409d"
      },
      "execution_count": 45,
      "outputs": [
        {
          "output_type": "execute_result",
          "data": {
            "text/plain": [
              "0.12"
            ]
          },
          "metadata": {},
          "execution_count": 45
        }
      ]
    },
    {
      "cell_type": "markdown",
      "source": [
        "**L'erreur estimée est-elle plus petite que l'erreur apparente précédemment calculée ?**\n",
        "\n",
        "L'erreur estimée est plus grande que l'erreur apparente précédemment calculée.\n",
        "\n",
        "**Obtient-on toujours la même estimation pour l'erreur réelle ?**\n",
        "\n",
        "Pour chaque exécution, nous obtenons une estimation différente pour l'erreur réelle.\n",
        "\n",
        "**C.** Nous allons réaliser **t fois** le test de la fonction **test** sur le **même jeu de données** et avec le **même algorithme d'apprentissage**, puis nous allons moyenner les erreurs estimées. \n",
        "\n",
        "L'erreur moyenne obtenue pour **t = 10; 50; 100; 200; 500; 1000** est donnée par le code ci-dessous :"
      ],
      "metadata": {
        "id": "MddAeZsRgNRj"
      }
    },
    {
      "cell_type": "code",
      "source": [
        "# Cette fonction permet de réaliser t fois le test de la focntion test et de retourner la moyenne des erreurs estimées\n",
        "def repeat_test(S,clf,t):\n",
        "  result = 0\n",
        "  for i in range(t):\n",
        "    result += test(S,clf)\n",
        "  return result/t\n",
        "# Pour chaque t, nous allons effectuer le test de la focntion test et retourner la moyenne des erreurs estimées\n",
        "for t in [10,50,100,200,500,1000]:\n",
        "  print(f\"t = {t} | moyenne des erreurs estimées = {repeat_test(S,clf,t)}\")"
      ],
      "metadata": {
        "colab": {
          "base_uri": "https://localhost:8080/"
        },
        "id": "xD4P2h-AhyQE",
        "outputId": "be25289a-9f13-40ed-be3b-b19db0096709"
      },
      "execution_count": 46,
      "outputs": [
        {
          "output_type": "stream",
          "name": "stdout",
          "text": [
            "t = 10 | moyenne des erreurs estimées = 0.192\n",
            "t = 50 | moyenne des erreurs estimées = 0.1812\n",
            "t = 100 | moyenne des erreurs estimées = 0.2194\n",
            "t = 200 | moyenne des erreurs estimées = 0.1740999999999998\n",
            "t = 500 | moyenne des erreurs estimées = 0.19192000000000026\n",
            "t = 1000 | moyenne des erreurs estimées = 0.2085800000000006\n"
          ]
        }
      ]
    },
    {
      "cell_type": "markdown",
      "source": [
        "Pour chaque t, nous allons répéter 20 fois l'expérience. "
      ],
      "metadata": {
        "id": "2mhCxP4Yj1m7"
      }
    },
    {
      "cell_type": "code",
      "source": [
        "for t in [10,50,100,200,500,1000]:\n",
        "  moyenne = 0\n",
        "  for i in range(20):\n",
        "    moyenne += repeat_test(S,clf,t)\n",
        "  print(f\"t = {t} | 20 fois | moyenne des erreurs estimées = {moyenne/20}\")"
      ],
      "metadata": {
        "colab": {
          "base_uri": "https://localhost:8080/"
        },
        "id": "U0ZmppxSjS-s",
        "outputId": "05fa24a2-6263-42f1-cc8a-7840a49ad368"
      },
      "execution_count": 47,
      "outputs": [
        {
          "output_type": "stream",
          "name": "stdout",
          "text": [
            "t = 10 | 20 fois | moyenne des erreurs estimées = 0.21760000000000002\n",
            "t = 50 | 20 fois | moyenne des erreurs estimées = 0.20002\n",
            "t = 100 | 20 fois | moyenne des erreurs estimées = 0.20456999999999997\n",
            "t = 200 | 20 fois | moyenne des erreurs estimées = 0.20238499999999995\n",
            "t = 500 | 20 fois | moyenne des erreurs estimées = 0.2007140000000002\n",
            "t = 1000 | 20 fois | moyenne des erreurs estimées = 0.19995500000000022\n"
          ]
        }
      ]
    },
    {
      "cell_type": "markdown",
      "source": [
        "**Pour chaque t, est-ce que l'erreur moyenne est stable ou non ?**\n",
        "\n",
        "L'erreur moyenne est de plus en plus stable à chaque itération.\n",
        "\n",
        "**Pouvez-vous interpréter ce résultat ?**\n",
        "\n",
        "Nous pouvons affirmer que plus l'ensemble de données est grand, plus le taux d'erreur converge vers la value réelle de l'erreur.\n",
        "\n",
        "**D. Est-ce que l'erreur estimée (dans sa version stable), dans le cas d'un échantillon de test qui ne prend que le 10ème de l'échantillon initial, est la même qu'avec la proportion d'1/3 ?**\n",
        "\n",
        "Pour réaliser cette comparaison, nous devons modifier la fonction **split(S)** comme le montre le code ci-dessous.\n",
        "\n",
        "L'erreur estimée (dans sa version stable), dans le cas d'un échantillon de test qui ne prend que le **10ème** de l'échantillon initial est de **0.12** tandis que celle avec la portion d'**1/3** est de **0.20**.\n",
        "\n"
      ],
      "metadata": {
        "id": "jYY0ySMvjJXj"
      }
    },
    {
      "cell_type": "code",
      "source": [
        "from random import sample\n",
        "S = list(zip(irisData.data, irisData.target))\n",
        "def split(S):\n",
        "  # Le 10ème de l'échantillon initial\n",
        "  S_size = len(S)*0.1\n",
        "  S_indexes = sample(range(len(S)),k=round(S_size))\n",
        "  dataS1 = []\n",
        "  targetS1 = []\n",
        "  dataS2 = []\n",
        "  targetS2 = []\n",
        "  for i in range(len(S)):\n",
        "    if i in S_indexes:\n",
        "      dataS2.append(S[i][0])\n",
        "      targetS2.append(S[i][1])\n",
        "    else:\n",
        "      dataS1.append(S[i][0])\n",
        "      targetS1.append(S[i][1])\n",
        "  return [dataS1, targetS1, dataS2, targetS2]\n",
        "[dataS1, targetS1, dataS2, targetS2] = split(S)\n",
        "print(f\"dataS1 = {len(dataS1)}  targetS1 = {len(targetS1)}\")\n",
        "print(f\"dataS2 = {len(dataS2)}  targetS2 = {len(targetS2)}\")\n",
        "\n",
        "for t in [10,50,100,200,500,1000]:\n",
        "  moyenne = 0\n",
        "  for i in range(20):\n",
        "    moyenne += repeat_test(S,clf,t)\n",
        "  print(f\"t = {t} | 20 fois | moyenne des erreurs estimées = {moyenne/20}\")"
      ],
      "metadata": {
        "colab": {
          "base_uri": "https://localhost:8080/"
        },
        "id": "ZIXm6qf7nWJr",
        "outputId": "80342f9a-d501-48f5-b457-c9bd939d8bcb"
      },
      "execution_count": 48,
      "outputs": [
        {
          "output_type": "stream",
          "name": "stdout",
          "text": [
            "dataS1 = 135  targetS1 = 135\n",
            "dataS2 = 15  targetS2 = 15\n",
            "t = 10 | 20 fois | moyenne des erreurs estimées = 0.11133333333333333\n",
            "t = 50 | 20 fois | moyenne des erreurs estimées = 0.1205333333333333\n",
            "t = 100 | 20 fois | moyenne des erreurs estimées = 0.1217666666666666\n",
            "t = 200 | 20 fois | moyenne des erreurs estimées = 0.1268499999999998\n",
            "t = 500 | 20 fois | moyenne des erreurs estimées = 0.12248000000000045\n",
            "t = 1000 | 20 fois | moyenne des erreurs estimées = 0.1235933333333337\n"
          ]
        }
      ]
    },
    {
      "cell_type": "markdown",
      "source": [
        "**E.** Il existe déjà, une fonction qui réalise le découpage d'un échantillon en deux parties disjointes. Il s'agit de la fonction **train_test_split**. Elle prend en entrée un échantillon de données (descriptions et cibles), et le sépare, selon une proportion en paramètre, en un ensemble d'apprentissage et un ensemble test (par défaut : **test_size=0.25**). Elle renvoie ainsi quatre quantités, dans l'ordre : une matrice de description des données pour l'apprentissage (**D_train**), une matrice de description des données pour le test (**D_test**), le vecteur des classes (cibles) des données d'apprentissage (**C_train**), et le vecteur des classes (cibles) des données de test (**C_test**).\n",
        "\n",
        "Nous allons tester cette fonction avec plusieurs valeurs pour **test_size** dont **0.33** pour estimer l'erreur réelle de Naïve Bayes sur les données **Iris**."
      ],
      "metadata": {
        "id": "3McLp6WeopR1"
      }
    },
    {
      "cell_type": "code",
      "source": [
        "from sklearn.model_selection import train_test_split\n",
        "from numpy import arange\n",
        "def test_split():\n",
        "  X_train, X_test, y_train, y_test = train_test_split(irisData.data, irisData.target,test_size=test_size)\n",
        "  clf.fit(X_train, y_train)\n",
        "  print(f\"Taille du test = {test_size} | Taux de bonne classification = {clf.score(X_test, y_test)} | Taux d'erreur = {1-clf.score(X_test, y_test)}\")\n",
        "  return 1-clf.score(X_test, y_test)\n",
        "min_error_test_size = None\n",
        "min_error = None\n",
        "avg_error = 0\n",
        "test_sizes=[0.05,0.1,0.15,0.2,0.25,0.3,0.33,0.35,0.4,0.45]\n",
        "for test_size in test_sizes:\n",
        "  error = test_split()\n",
        "  avg_error += error\n",
        "  if (min_error_test_size is None):\n",
        "    min_error_test_size = test_size\n",
        "    min_error = error\n",
        "  else:\n",
        "    if error < min_error:\n",
        "      min_error = error\n",
        "      min_error_test_size = test_size\n",
        "print(f\"Erreur minimale = {min_error} avec taille du test = {min_error_test_size}\")\n",
        "print(f\"Erreur moyenne = {avg_error/ len(test_sizes)}\")"
      ],
      "metadata": {
        "colab": {
          "base_uri": "https://localhost:8080/"
        },
        "id": "d4cN7GGquHcD",
        "outputId": "329ae1b1-e10b-45ba-c67a-091c2a8772bc"
      },
      "execution_count": 54,
      "outputs": [
        {
          "output_type": "stream",
          "name": "stdout",
          "text": [
            "Taille du test = 0.05 | Taux de bonne classification = 0.875 | Taux d'erreur = 0.125\n",
            "Taille du test = 0.1 | Taux de bonne classification = 0.8666666666666667 | Taux d'erreur = 0.1333333333333333\n",
            "Taille du test = 0.15 | Taux de bonne classification = 0.8260869565217391 | Taux d'erreur = 0.17391304347826086\n",
            "Taille du test = 0.2 | Taux de bonne classification = 0.9 | Taux d'erreur = 0.09999999999999998\n",
            "Taille du test = 0.25 | Taux de bonne classification = 0.6578947368421053 | Taux d'erreur = 0.3421052631578947\n",
            "Taille du test = 0.3 | Taux de bonne classification = 0.9555555555555556 | Taux d'erreur = 0.0444444444444444\n",
            "Taille du test = 0.33 | Taux de bonne classification = 0.86 | Taux d'erreur = 0.14\n",
            "Taille du test = 0.35 | Taux de bonne classification = 0.8113207547169812 | Taux d'erreur = 0.18867924528301883\n",
            "Taille du test = 0.4 | Taux de bonne classification = 0.7666666666666667 | Taux d'erreur = 0.23333333333333328\n",
            "Taille du test = 0.45 | Taux de bonne classification = 0.8382352941176471 | Taux d'erreur = 0.16176470588235292\n",
            "Erreur minimale = 0.0444444444444444 avec taille du test = 0.3\n",
            "Erreur moyenne = 0.16425733689126382\n"
          ]
        }
      ]
    },
    {
      "cell_type": "markdown",
      "source": [
        "**2.2 Estimer l'erreur réelle par validation croisée**\n",
        "\n",
        "Parmi les techniques utilisées pour estimer l'erreur réelle d'un classifieur, la **validation croisée sur n parties** (folds) est une des plus courantes, quasi optimale d'après de récentes recherches. \n",
        "\n",
        "Son principe est le suivant :\n",
        "- Soit un **échantillon S** ;\n",
        "- Soit un **algorithme d'apprentissage A** ;\n",
        "- Séparer **S** en **n parties disjointes** de **tailles similaires Si**, **i = 1..n** ;\n",
        "- Pour i allant de 1 à n : entrainer **A** sur toutes les **Sj** sauf **Si**, pour obtenir un classifieur **hi** (méthode **fit**). Tester **hi** sur **Si** : calculer ainsi **Ei**, l'erreur faite par **hi** sur la partie **Ei** (méthode **predict**) ;\n",
        "- Calculer **E** : $𝐸=Σi(𝐸𝑖/𝑛)$.\n",
        "\n",
        "**E** est ainsi une bonne estimation de l'erreur réelle d'un classifieur appris avec **A** sur **S**.\n",
        "\n",
        "Nous allons tester la fonction **cross_val_score** du package **sklearn.cross_validation**, pour estimer l'erreur réelle par validation croisée avec **10 folds**.\n",
        "Nous allons aussi estimer cette erreur avec **2 folds**, **3 folds**, **5 folds** et **8 folds**."
      ],
      "metadata": {
        "id": "xj12IkLnxrQc"
      }
    },
    {
      "cell_type": "code",
      "source": [
        "from sklearn.model_selection import cross_val_score\n",
        "def test_fold(fold):\n",
        "  error_rate = 1 - cross_val_score(clf, irisData.data, irisData.target, cv=fold)\n",
        "  return 1-error_rate\n",
        "def test_it(params,fn):\n",
        "  for param in params:\n",
        "    scores = fn(param)\n",
        "    print(\"n = %d folds | Taux d'erreur : %0.4f (+/- %0.2f)\" % (param,1-scores.mean(), scores.std() * 2))\n",
        "test_it([10,2,3,5,8],test_fold)"
      ],
      "metadata": {
        "colab": {
          "base_uri": "https://localhost:8080/"
        },
        "id": "4vyt8Th31OMs",
        "outputId": "95f04e5e-fcc6-4a2b-8c04-c859cac6fb1e"
      },
      "execution_count": null,
      "outputs": [
        {
          "output_type": "stream",
          "name": "stdout",
          "text": [
            "n = 10 folds | Taux d'erreur : 0.0467 (+/- 0.13)\n",
            "n = 2 folds | Taux d'erreur : 0.0467 (+/- 0.01)\n",
            "n = 3 folds | Taux d'erreur : 0.0533 (+/- 0.04)\n",
            "n = 5 folds | Taux d'erreur : 0.0467 (+/- 0.09)\n",
            "n = 8 folds | Taux d'erreur : 0.0526 (+/- 0.12)\n"
          ]
        }
      ]
    },
    {
      "cell_type": "markdown",
      "source": [
        "# IV. Compte Rendu"
      ],
      "metadata": {
        "id": "VYiq7jcn42xv"
      }
    },
    {
      "cell_type": "markdown",
      "source": [
        "Nous allons produire un tableau résumant les **différentes erreurs obtenues** (**calculées et estimées**) sur le jeu de données **Iris** en utilisant **plusieurs méthodes de classification** que nous avons vu au cours."
      ],
      "metadata": {
        "id": "f41ih9bdgphK"
      }
    },
    {
      "cell_type": "code",
      "source": [
        "from sklearn.naive_bayes import MultinomialNB\n",
        "from sklearn.tree import DecisionTreeClassifier\n",
        "from sklearn.ensemble import RandomForestClassifier\n",
        "from sklearn.svm import SVC\n",
        "from sklearn.neighbors import KNeighborsClassifier\n",
        "\n",
        "# Performances sur l'ensemble d'apprentissage\n",
        "def performance_method1(clf,X,y):\n",
        "  clf.fit(X,y)\n",
        "  return 1 - clf.score(X,y)\n",
        "# Performances par division de l'échantillon d'apprentissage\n",
        "def performance_method2(clf,X,y):\n",
        "  X_train, X_test, y_train, y_test = train_test_split(X,y, test_size=.33)\n",
        "  clf.fit(X_train, y_train)\n",
        "  return 1 - clf.score(X_test, y_test)\n",
        "# Performances par validation croisée\n",
        "def performance_method3(clf,X,y):\n",
        "  error_rate = 1 - cross_val_score(clf, X, y).mean()\n",
        "  return error_rate\n",
        "performances = {\n",
        "  \"Performances sur l'ensemble d'apprentissage\": performance_method1,\n",
        "  \"Performances par division de l'échantillon d'apprentissage\": performance_method2,\n",
        "  \"Performances par validation croisée\":performance_method3\n",
        "}\n",
        "classifiers = {\n",
        "  \"Naïve Bayes\": MultinomialNB(fit_prior=True),\n",
        "  \"Arbre de décision\": DecisionTreeClassifier(),\n",
        "  \"Random forest\": RandomForestClassifier(),\n",
        "  \"Support Vector Machine classifier\": SVC(),\n",
        "  \"K Nearest Neighbors\": KNeighborsClassifier(),\n",
        "}\n",
        "def generate_markdown_report(X,y):\n",
        "  print(\"| | \"+\" | \".join([perf_label for perf_label in performances])+\" | \")\n",
        "  for clf_label,clf in classifiers.items():\n",
        "    print(\"|\",clf_label,end=\" | \")\n",
        "    for perf_label, performance_fn in performances.items():\n",
        "      print(\"%.4f\"%performance_fn(clf, X, y), end=\" | \")\n",
        "    print()\n",
        "generate_markdown_report(irisData.data, irisData.target)"
      ],
      "metadata": {
        "colab": {
          "base_uri": "https://localhost:8080/"
        },
        "id": "JlDjZU0648IL",
        "outputId": "eac5aef4-627d-4d67-b4e6-9728bfa1b1bf"
      },
      "execution_count": null,
      "outputs": [
        {
          "output_type": "stream",
          "name": "stdout",
          "text": [
            "| | Performances sur l'ensemble d'apprentissage | Performances par division de l'échantillon d'apprentissage | Performances par validation croisée | \n",
            "| Naïve Bayes | 0.0467 | 0.2000 | 0.0467 | \n",
            "| Arbre de décision | 0.0000 | 0.1200 | 0.0400 | \n",
            "| Random forest | 0.0000 | 0.0400 | 0.0400 | \n",
            "| Support Vector Machine classifier | 0.0267 | 0.0800 | 0.0333 | \n",
            "| K Nearest Neighbors | 0.0333 | 0.0600 | 0.0267 | \n"
          ]
        }
      ]
    },
    {
      "cell_type": "markdown",
      "source": [
        "**Tableau recapitulatif des taux d'erreurs**\n",
        "\n",
        "| |Performances sur l'ensemble d'apprentissage|Performances par division de l'échantillon d'apprentissage|Performances par validation croisée|\n",
        "|-|-|-|-|\n",
        "| Naïve Bayes | 0.0467 | 0.2000 | 0.0467 | \n",
        "| Arbre de décision | **0.0000** | 0.1200 | 0.0400 | \n",
        "| Random forest | **0.0000** | 0.0400 | 0.0400 | \n",
        "| Support Vector Machine classifier | **0.0267** | 0.0800 | 0.0333 | \n",
        "| K Nearest Neighbors | 0.0333 | 0.0600 | **0.0267** | \n",
        "\n",
        "\n",
        "**Est-ce que les erreurs obtenues par la méthode Naïve Bayes et par la méthode arbre de décision, vous permettent d'indiquer si une méthode de classification est meilleure qu'une autre ?**\n",
        "\n",
        "Nous ne pouvons pas considérer qu'une méthode de classification est meilleure qu'une autre seulement par la comparaison du taux d'erreur. Cela dépend fortement de la nature du dataset. Certains algorithmes sont plus adaptés à certains problèmes que d'autres."
      ],
      "metadata": {
        "id": "3ls4IguMl2t5"
      }
    }
  ]
}